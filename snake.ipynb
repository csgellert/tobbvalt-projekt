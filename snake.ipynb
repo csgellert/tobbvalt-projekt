{
 "cells": [
  {
   "cell_type": "markdown",
   "metadata": {},
   "source": [
    "# Többváltozós analízis mérnöki alkalmazásai projekt\n",
    "\n",
    "## Snake\n",
    "\n",
    "### Hogy állunk jelenleg?\n",
    "\n",
    "- A játék egy objektumon keresztül folyik\n",
    "- A megjelenítés még nem az igazi\n",
    "- A pálya zárt, négyzet alakú. (Nem lehet átmenni a falon mint egy topológialag tórusznak tekinthető pályán)"
   ]
  },
  {
   "cell_type": "code",
   "execution_count": 68,
   "metadata": {},
   "outputs": [],
   "source": [
    "import numpy as np\n",
    "from matplotlib import pyplot as plt\n",
    "import random\n",
    "import time"
   ]
  },
  {
   "cell_type": "code",
   "execution_count": 69,
   "metadata": {},
   "outputs": [],
   "source": [
    "class kigyo:\n",
    "    palyaSize = 50 #hányszor hányas legyen a pálya\n",
    "    palya = np.ones((palyaSize,palyaSize))\n",
    "    fej = (25,25)#legyen monajuk a pálya közepén (parametrikusan elegánsabb)\n",
    "    snake = []#ebbe a tömbbe pakoljuk a kígyó testét\n",
    "    snake.append(fej)#rakjuk is bele a fejét\n",
    "    snake.append((fej[0]-1,fej[1]))\n",
    "    snake.append((fej[0]-2,fej[1]))\n",
    "    kaja = (20,25)#hol van a kaja\n",
    "    isAlive = True #él e még az adott példány\n",
    "    steps = 0 #hány lépést élt meg az adott példány... (ez az AIhoz jöhet jól)\n",
    "    #Egy konstruktor biztosan nem árt meg...\n",
    "    def __init__(self,nev):\n",
    "        self.name = nev #ez még nem fontos ,de később még jól jöhet \n",
    "    def ujKaja(self):#Arra majd még figyelni kell hogy az új kaja ne legyen a kígyóban...\n",
    "        x = random.randint(0,self.palyaSize)#Véletlenszerűen új helyet keresünk neki\n",
    "        y = random.randint(0,self.palyaSize)\n",
    "        return (x,y)\n",
    "    #hogy mozogni is tudjon...\n",
    "    def move(self,direction):\n",
    "        if(direction == 0):#felfele megy\n",
    "            self.fej = (self.fej[0]-1,self.fej[1])\n",
    "            self.utkozike() #Meghaltunk-e?\n",
    "            #kajál -e?\n",
    "            if (self.fej == self.kaja):\n",
    "                self.snake.insert(0,self.fej)#Ez esetben csak nő\n",
    "                self.kaja= self.ujKaja()#Új kaját kell generálni\n",
    "            else:\n",
    "                self.snake.pop()#A végét levágjuk\n",
    "                self.snake.insert(0,self.fej)#megy tovább a fej irányába\n",
    "        #jobbra megy\n",
    "        if(direction == 1):\n",
    "            self.fej = (self.fej[0],self.fej[1]+1)\n",
    "            self.utkozike()\n",
    "            if (self.fej == self.kaja):\n",
    "                self.snake.insert(0,self.fej)\n",
    "                self.kaja= self.ujKaja()\n",
    "            else:\n",
    "                self.snake.pop()\n",
    "                self.snake.insert(0,self.fej)\n",
    "        #lefelé megy\n",
    "        if(direction == 2):\n",
    "            self.fej = (self.fej[0]+1,self.fej[1])\n",
    "            self.utkozike()\n",
    "            if (self.fej == self.kaja):\n",
    "                self.snake.insert(0,self.fej)\n",
    "                self.kaja= self.ujKaja()\n",
    "            else:\n",
    "                self.snake.pop()\n",
    "                self.snake.insert(0,self.fej)\n",
    "        #balra megy\n",
    "        if(direction == 3):\n",
    "            self.fej = (self.fej[0],self.fej[1]-1)\n",
    "            self.utkozike()\n",
    "            #kajál -e?\n",
    "            if (self.fej == self.kaja):\n",
    "                self.snake.insert(0,self.fej)\n",
    "                self.kaja= self.ujKaja()\n",
    "            else:\n",
    "                self.snake.pop()\n",
    "                self.snake.insert(0,self.fej)        \n",
    "        \n",
    "    #Hogy ki is rajzolhassuk\n",
    "    def mutat(self):\n",
    "        self.palya= np.zeros((self.palyaSize,self.palyaSize))#Tisztítsuk meg a palyat\n",
    "        for i in self.snake:\n",
    "            self.palya[i]=1 #ahol a kigyo van ott legyen 1\n",
    "        self.palya[self.kaja]=0.5 #ahol a kaja van ott pedig 0\n",
    "        plt.imshow(self.palya, cmap='gray')\n",
    "        #Ha a következő sort kikommentelitek akkor pedig mindig új ábrát hoz létre...\n",
    "        #plt.show()\n",
    "    def utkozike(self):\n",
    "        if(self.fej[0]==-1 or self.fej[0]==self.palyaSize or self.fej[1]==-1 or self.fej[1]==self.palyaSize):\n",
    "            print(\"meghaltal\")#Ha kimegy a pályáról\n",
    "            self.isAlive = False\n",
    "        elif(self.fej in self.snake[:-1]):\n",
    "            print(\"meghaltal\")#Ha önmagába ütközik\n",
    "            self.isAlive = False\n",
    "    "
   ]
  },
  {
   "cell_type": "code",
   "execution_count": 70,
   "metadata": {},
   "outputs": [
    {
     "name": "stdout",
     "output_type": "stream",
     "text": [
      "[(25, 26), (25, 25), (24, 25)]\n",
      "[(26, 26), (25, 26), (25, 25)]\n",
      "[(27, 26), (26, 26), (25, 26)]\n",
      "[(28, 26), (27, 26), (26, 26)]\n",
      "[(28, 25), (28, 26), (27, 26)]\n",
      "[(29, 25), (28, 25), (28, 26)]\n",
      "[(29, 24), (29, 25), (28, 25)]\n",
      "[(28, 24), (29, 24), (29, 25)]\n",
      "[(28, 25), (28, 24), (29, 24)]\n",
      "meghaltal\n",
      "[(28, 24), (28, 25), (28, 24)]\n"
     ]
    },
    {
     "data": {
      "image/png": "[encoded data removed]",
      "text/plain": [
       "<Figure size 432x288 with 1 Axes>"
      ]
     },
     "metadata": {
      "needs_background": "light"
     },
     "output_type": "display_data"
    }
   ],
   "source": [
    "#itt lehet próbálgatni a funkciókat...\n",
    "pl = kigyo(\"elso\")\n",
    "#pl.mutat()\n",
    "#print(pl.snake)\n",
    "for i in range(100): # véletlen lépegetés\n",
    "    irany = random.randint(0,3)\n",
    "    if(pl.isAlive):\n",
    "        pl.move(irany)  \n",
    "        print(pl.snake)# Ez csak azért van itt hogy lássuk merre megy. Amúgy majd kikommentelendő\n",
    "pl.mutat()\n",
    "del pl"
   ]
  },
  {
   "cell_type": "code",
   "execution_count": null,
   "metadata": {},
   "outputs": [],
   "source": []
  },
  {
   "cell_type": "code",
   "execution_count": null,
   "metadata": {},
   "outputs": [],
   "source": []
  }
 ],
 "metadata": {
  "kernelspec": {
   "display_name": "Python 3",
   "language": "python",
   "name": "python3"
  },
  "language_info": {
   "codemirror_mode": {
    "name": "ipython",
    "version": 3
   },
   "file_extension": ".py",
   "mimetype": "text/x-python",
   "name": "python",
   "nbconvert_exporter": "python",
   "pygments_lexer": "ipython3",
   "version": "3.7.4"
  }
 },
 "nbformat": 4,
 "nbformat_minor": 2
}
