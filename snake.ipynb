{
  "nbformat": 4,
  "nbformat_minor": 0,
  "metadata": {
    "kernelspec": {
      "display_name": "Python 3",
      "language": "python",
      "name": "python3"
    },
    "language_info": {
      "codemirror_mode": {
        "name": "ipython",
        "version": 3
      },
      "file_extension": ".py",
      "mimetype": "text/x-python",
      "name": "python",
      "nbconvert_exporter": "python",
      "pygments_lexer": "ipython3",
      "version": "3.7.4"
    },
    "colab": {
      "name": "snake.ipynb",
      "provenance": [],
      "include_colab_link": true
    }
  },
  "cells": [
    {
      "cell_type": "markdown",
      "metadata": {
        "id": "view-in-github",
        "colab_type": "text"
      },
      "source": [
        "<a href=\"https://colab.research.google.com/github/csgellert/tobbvalt-projekt/blob/Open-in-colab/snake.ipynb\" target=\"_parent\"><img src=\"https://colab.research.google.com/assets/colab-badge.svg\" alt=\"Open In Colab\"/></a>"
      ]
    },
    {
      "cell_type": "markdown",
      "metadata": {
        "id": "Bx6NVLUA3z4T",
        "colab_type": "text"
      },
      "source": [
        "# Többváltozós analízis mérnöki alkalmazásai projekt\n",
        "\n",
        "## Snake\n",
        "\n",
        "### Hogy állunk jelenleg?\n",
        "\n",
        "- A játék egy objektumon keresztül folyik\n",
        "- A megjelenítés még nem az igazi\n",
        "- A pálya zárt, négyzet alakú. (Nem lehet átmenni a falon mint egy topológialag tórusznak tekinthető pályán)"
      ]
    },
    {
      "cell_type": "code",
      "metadata": {
        "id": "H7fUs_8H3z4U",
        "colab_type": "code",
        "colab": {}
      },
      "source": [
        "import numpy as np\n",
        "from matplotlib import pyplot as plt\n",
        "import random\n",
        "import time"
      ],
      "execution_count": 0,
      "outputs": []
    },
    {
      "cell_type": "code",
      "metadata": {
        "id": "v1F53GX13z4Z",
        "colab_type": "code",
        "colab": {}
      },
      "source": [
        "class kigyo:\n",
        "    palyaSize = 50 #hányszor hányas legyen a pálya\n",
        "    palya = np.ones((palyaSize,palyaSize))\n",
        "    fej = (25,25)#legyen monajuk a pálya közepén (parametrikusan elegánsabb)\n",
        "    snake = []#ebbe a tömbbe pakoljuk a kígyó testét\n",
        "    snake.append(fej)#rakjuk is bele a fejét\n",
        "    snake.append((fej[0]-1,fej[1]))\n",
        "    snake.append((fej[0]-2,fej[1]))\n",
        "    kaja = (20,25)#hol van a kaja\n",
        "    isAlive = True #él e még az adott példány\n",
        "    steps = 0 #hány lépést élt meg az adott példány... (ez az AIhoz jöhet jól)\n",
        "    score = 0 # hány kaját evett meg eddig\n",
        "    fitness = 0\n",
        "    #Egy konstruktor biztosan nem árt meg...\n",
        "    def __init__(self,nev):\n",
        "        self.name = nev #ez még nem fontos ,de később még jól jöhet \n",
        "    def ujKaja(self):#Arra majd még figyelni kell hogy az új kaja ne legyen a kígyóban...\n",
        "        x = random.randint(0,self.palyaSize)#Véletlenszerűen új helyet keresünk neki\n",
        "        y = random.randint(0,self.palyaSize)\n",
        "        self.score +=1\n",
        "        return (x,y)\n",
        "    #hogy mozogni is tudjon...\n",
        "    def move(self,direction):\n",
        "        if(direction == 0):#felfele megy\n",
        "            self.fej = (self.fej[0]-1,self.fej[1])\n",
        "            self.utkozike() #Meghaltunk-e?\n",
        "            #kajál -e?\n",
        "            if (self.fej == self.kaja):\n",
        "                self.snake.insert(0,self.fej)#Ez esetben csak nő\n",
        "                self.kaja= self.ujKaja()#Új kaját kell generálni\n",
        "            else:\n",
        "                self.snake.pop()#A végét levágjuk\n",
        "                self.snake.insert(0,self.fej)#megy tovább a fej irányába\n",
        "        #jobbra megy\n",
        "        if(direction == 1):\n",
        "            self.fej = (self.fej[0],self.fej[1]+1)\n",
        "            self.utkozike()\n",
        "            if (self.fej == self.kaja):\n",
        "                self.snake.insert(0,self.fej)\n",
        "                self.kaja= self.ujKaja()\n",
        "            else:\n",
        "                self.snake.pop()\n",
        "                self.snake.insert(0,self.fej)\n",
        "        #lefelé megy\n",
        "        if(direction == 2):\n",
        "            self.fej = (self.fej[0]+1,self.fej[1])\n",
        "            self.utkozike()\n",
        "            if (self.fej == self.kaja):\n",
        "                self.snake.insert(0,self.fej)\n",
        "                self.kaja= self.ujKaja()\n",
        "            else:\n",
        "                self.snake.pop()\n",
        "                self.snake.insert(0,self.fej)\n",
        "        #balra megy\n",
        "        if(direction == 3):\n",
        "            self.fej = (self.fej[0],self.fej[1]-1)\n",
        "            self.utkozike()\n",
        "            #kajál -e?\n",
        "            if (self.fej == self.kaja):\n",
        "                self.snake.insert(0,self.fej)\n",
        "                self.kaja= self.ujKaja()\n",
        "            else:\n",
        "                self.snake.pop()\n",
        "                self.snake.insert(0,self.fej)        \n",
        "        self.steps +=1\n",
        "        self.fitness = self.steps + self.score *100\n",
        "    #Hogy ki is rajzolhassuk\n",
        "    def mutat(self):\n",
        "        self.palya= np.zeros((self.palyaSize,self.palyaSize))#Tisztítsuk meg a palyat\n",
        "        for i in self.snake:\n",
        "            self.palya[i]=1 #ahol a kigyo van ott legyen 1\n",
        "        self.palya[self.kaja]=0.5 #ahol a kaja van ott pedig 0\n",
        "        plt.imshow(self.palya, cmap='gray')\n",
        "        #Ha a következő sort kikommentelitek akkor pedig mindig új ábrát hoz létre...\n",
        "        #plt.show()\n",
        "    def utkozike(self):\n",
        "        if(self.fej[0]==-1 or self.fej[0]==self.palyaSize or self.fej[1]==-1 or self.fej[1]==self.palyaSize):\n",
        "            #print(\"meghaltal\")#Ha kimegy a pályáról\n",
        "            self.isAlive = False\n",
        "        elif(self.fej in self.snake[:-1]):\n",
        "            #print(\"meghaltal\")#Ha önmagába ütközik\n",
        "            self.isAlive = False\n",
        "    "
      ],
      "execution_count": 0,
      "outputs": []
    },
    {
      "cell_type": "code",
      "metadata": {
        "id": "_LDPkuVv3z4c",
        "colab_type": "code",
        "colab": {}
      },
      "source": [
        "class evol:\n",
        "    gen = 1 # hanyadik generációnál járunk...\n",
        "    def __init__(self):\n",
        "        peldanySzam = 100 #hány példány van egy generációban\n",
        "        self.peldanyok = [] #A kezdeti állományok...\n",
        "        for i in range(peldanySzam):\n",
        "            self.peldanyok.append(kigyo(\"gen1.\" + str(i))) #töltsük fel az állományt\n",
        "    def play(self): #Mindegyik példány lejátszik egy meccset\n",
        "        for i in self.peldanyok:\n",
        "            for k in range(100): # Ne bolyonghasssanak a végtelenségig...\n",
        "                irany = random.randint(0,3)# egyenlőre véletlenszerűen mozognak\n",
        "                if(i.isAlive):\n",
        "                    i.move(irany)\n",
        "                else:\n",
        "                    break # Ha meghal ne csinálja tovább...\n",
        "            else:\n",
        "                i.fitness = i.steps + i.score *100 #Ez a sor szerintem nem münködik\n",
        "    def legjobb(self): #Ezt csak kiírarásra használtam\n",
        "        maximum = 0\n",
        "        maxidx = 0\n",
        "        for idx,i in enumerate(self.peldanyok):\n",
        "            if i.fitness > maximum:\n",
        "                maximum = i.fitness\n",
        "                maxidx = idx\n",
        "        print(maximum , maxidx)\n",
        "            "
      ],
      "execution_count": 0,
      "outputs": []
    },
    {
      "cell_type": "code",
      "metadata": {
        "id": "JRD-Py9e3z4g",
        "colab_type": "code",
        "colab": {},
        "outputId": "63757fc3-6285-4c8a-f2c3-4acbeacf689a"
      },
      "source": [
        "#itt lehet próbálgatni a funkciókat...\n",
        "pl = kigyo(\"elso\")\n",
        "#pl.mutat()\n",
        "#print(pl.snake)\n",
        "for i in range(100): # véletlen lépegetés\n",
        "    irany = random.randint(0,3)\n",
        "    if(pl.isAlive):\n",
        "        pl.move(irany)  \n",
        "        print(pl.snake)# Ez csak azért van itt hogy lássuk merre megy. Amúgy majd kikommentelendő\n",
        "pl.mutat()\n",
        "del pl"
      ],
      "execution_count": 0,
      "outputs": [
        {
          "output_type": "stream",
          "text": [
            "[(26, 25), (25, 25), (24, 25)]\n",
            "[(26, 26), (26, 25), (25, 25)]\n",
            "[(26, 27), (26, 26), (26, 25)]\n",
            "[(26, 28), (26, 27), (26, 26)]\n",
            "[(26, 27), (26, 28), (26, 27)]\n"
          ],
          "name": "stdout"
        },
        {
          "output_type": "display_data",
          "data": {
            "image/png": "[encoded data removed]",
            "text/plain": [
              "<Figure size 432x288 with 1 Axes>"
            ]
          },
          "metadata": {
            "tags": [],
            "needs_background": "light"
          }
        }
      ]
    },
    {
      "cell_type": "code",
      "metadata": {
        "id": "VLiDE98N3z4k",
        "colab_type": "code",
        "colab": {},
        "outputId": "a7d2186b-bbc0-4a3b-ad5e-3dbd09d3ac5d"
      },
      "source": [
        "ev = evol() #Hozzuk létre az objektumot\n",
        "ev.play() # Játszassuk le\n",
        "ev.legjobb() # írassuk ki a legjobbat"
      ],
      "execution_count": 0,
      "outputs": [
        {
          "output_type": "stream",
          "text": [
            "14 27\n"
          ],
          "name": "stdout"
        }
      ]
    },
    {
      "cell_type": "code",
      "metadata": {
        "id": "o_gzuzxG3z4p",
        "colab_type": "code",
        "colab": {},
        "outputId": "148a8e7f-954a-464e-9761-62a1d8958a77"
      },
      "source": [
        "print(ev.peldanyok[14].snake)"
      ],
      "execution_count": 0,
      "outputs": [
        {
          "output_type": "stream",
          "text": [
            "[(26, 26), (25, 26), (26, 26)]\n"
          ],
          "name": "stdout"
        }
      ]
    },
    {
      "cell_type": "code",
      "metadata": {
        "id": "HlGcRJq53z4s",
        "colab_type": "code",
        "colab": {}
      },
      "source": [
        ""
      ],
      "execution_count": 0,
      "outputs": []
    }
  ]
}