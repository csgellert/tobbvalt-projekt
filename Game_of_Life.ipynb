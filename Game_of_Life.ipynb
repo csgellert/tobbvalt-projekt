{
  "nbformat": 4,
  "nbformat_minor": 0,
  "metadata": {
    "colab": {
      "name": "Game of Life.ipynb",
      "provenance": [],
      "collapsed_sections": [],
      "include_colab_link": true
    },
    "kernelspec": {
      "name": "python3",
      "display_name": "Python 3"
    }
  },
  "cells": [
    {
      "cell_type": "markdown",
      "metadata": {
        "id": "view-in-github",
        "colab_type": "text"
      },
      "source": [
        "<a href=\"https://colab.research.google.com/github/csgellert/tobbvalt-projekt/blob/Open-in-colab/Game_of_Life.ipynb\" target=\"_parent\"><img src=\"https://colab.research.google.com/assets/colab-badge.svg\" alt=\"Open In Colab\"/></a>"
      ]
    },
    {
      "cell_type": "markdown",
      "metadata": {
        "id": "CoFbNKEq5Dau",
        "colab_type": "text"
      },
      "source": [
        "#**Convay's Game of Life**\n",
        "##Python implementáció:"
      ]
    },
    {
      "cell_type": "code",
      "metadata": {
        "id": "wXBvLkXRPVaj",
        "colab_type": "code",
        "outputId": "ba266d90-56ee-4176-b1bc-aecfe02ec7e0",
        "colab": {
          "base_uri": "https://localhost:8080/",
          "height": 269
        }
      },
      "source": [
        "import numpy as np\n",
        "import matplotlib.pyplot as plt\n",
        "from matplotlib import animation#, rc\n",
        "import random\n",
        "\n",
        "def update(frameNum,img,array):\n",
        "\twhole_sum = np.sum(array)\n",
        "\tisFirstIter = True\n",
        "\tif whole_sum==0: # ha üres, akkor nem kell csinálni vele semmit\n",
        "\t\timg.set_data(array)\n",
        "\t\treturn img\n",
        "\tBig_array = np.zeros((array.shape[0]+2,array.shape[1]+2)) # zeropadding\n",
        "\tBig_array[1:-1,1:-1] = array\n",
        "\tfor i in range(0,array.shape[0]):\n",
        "\t\tfor j in range(0,array.shape[1]):\n",
        "\t\t\tdb = np.sum(Big_array[i:i+3,j:j+3]) # kernelben az élő elemszám\n",
        "\t\t\tif db==0:\n",
        "\t\t\t\tcontinue\n",
        "\t\t\tc = Big_array[i+1,j+1] # a kernel középpontja\n",
        "\t\t\tdb -= c\n",
        "\t\t\tif (db==3 or (db==2 and c==1)):\n",
        "\t\t\t    array[i,j]=1\n",
        "\t\t\telse:\n",
        "\t\t\t\tarray[i,j]=0\n",
        "\t\t\twhole_sum-=c\n",
        "\t\t#gyorsítás érdekében megnézzük, hogy az összes életben lévő pontot megvizsgáltuk-e, és hagyunk neki még egy kört, hogy a következő sorban esetlegesen születő pontokat el tudja helyezni\n",
        "\t\tif whole_sum==0 and isFirstIter:\n",
        "\t\t\tisFirstIter = False\n",
        "\t\telif whole_sum==0 and isFirstIter==False:\n",
        "\t\t\timg.set_data(array)\n",
        "\t\t\treturn img\n",
        "\n",
        "\timg.set_data(array)\n",
        "\treturn img\n",
        "\n",
        "\n",
        "# random inicializálás\n",
        "N = 256   # tábla méret\n",
        "Board = np.zeros((N,N))\n",
        "for i in range(0,Board.shape[0]):\n",
        "\tfor j in range(0,Board.shape[1]):\n",
        "\t\tBoard[i,j] = random.randint(0,1)\n",
        "  \n",
        "# Megjelenítés \n",
        "fig, ax = plt.subplots() \n",
        "img = ax.imshow(Board, interpolation='nearest') \n",
        "anim = animation.FuncAnimation(fig, update, frames = 100,fargs=(img,Board,), interval = 50)\n",
        "#rc('animation', html='jshtml')\n",
        "#anim\n",
        "plt.show()"
      ],
      "execution_count": 0,
      "outputs": [
        {
          "output_type": "display_data",
          "data": {
            "image/png": "[encoded data removed]",
            "text/plain": [
              "<Figure size 432x288 with 1 Axes>"
            ]
          },
          "metadata": {
            "tags": [],
            "needs_background": "light"
          }
        }
      ]
    },
    {
      "cell_type": "markdown",
      "metadata": {
        "id": "yN7_-47TRbKq",
        "colab_type": "text"
      },
      "source": [
        "##**Alakzatok:**\n",
        "* **Stabil alakzat:**"
      ]
    },
    {
      "cell_type": "code",
      "metadata": {
        "id": "N0226e7iRuFh",
        "colab_type": "code",
        "outputId": "862cfc2e-eea0-4a0d-ed4e-a39202819214",
        "colab": {
          "base_uri": "https://localhost:8080/",
          "height": 265
        }
      },
      "source": [
        "alak = np.zeros((4,4))\n",
        "\n",
        "alak[0,1] = alak[0,2] = 1\n",
        "alak[1,0] = alak[1,3] = 1\n",
        "alak[2,0] = alak[2,3] = 1\n",
        "alak[3,1] = alak[3,2] = 1\n",
        "\n",
        "zeropad = np.zeros((6,6))\n",
        "zeropad[1:-1,1:-1]=alak\n",
        "plt.imshow(zeropad)\n",
        "plt.show()"
      ],
      "execution_count": 0,
      "outputs": [
        {
          "output_type": "display_data",
          "data": {
            "image/png": "[encoded data removed]",
            "text/plain": [
              "<Figure size 432x288 with 1 Axes>"
            ]
          },
          "metadata": {
            "tags": [],
            "needs_background": "light"
          }
        }
      ]
    },
    {
      "cell_type": "markdown",
      "metadata": {
        "id": "1D0vORAEUiYS",
        "colab_type": "text"
      },
      "source": [
        "* **Forgó alakzat:**"
      ]
    },
    {
      "cell_type": "code",
      "metadata": {
        "id": "Geu7xzAMUnXn",
        "colab_type": "code",
        "outputId": "85484210-1daf-4e5a-a273-8e6336d46037",
        "colab": {
          "base_uri": "https://localhost:8080/",
          "height": 265
        }
      },
      "source": [
        "alak = np.ones((1,3))\n",
        "\n",
        "zeropad = np.zeros((5,5))\n",
        "zeropad[2,1:-1] = alak\n",
        "plt.imshow(zeropad)\n",
        "plt.show()"
      ],
      "execution_count": 0,
      "outputs": [
        {
          "output_type": "display_data",
          "data": {
            "image/png": "[encoded data removed]",
            "text/plain": [
              "<Figure size 432x288 with 1 Axes>"
            ]
          },
          "metadata": {
            "tags": [],
            "needs_background": "light"
          }
        }
      ]
    },
    {
      "cell_type": "markdown",
      "metadata": {
        "id": "9xV3kl3mVd0_",
        "colab_type": "text"
      },
      "source": [
        "* **Mászó alakzat:**"
      ]
    },
    {
      "cell_type": "code",
      "metadata": {
        "id": "8K3R9VLHVkfr",
        "colab_type": "code",
        "outputId": "f4028c9e-a794-4e33-8d35-ccf8995f83f4",
        "colab": {
          "base_uri": "https://localhost:8080/",
          "height": 265
        }
      },
      "source": [
        "alak = np.array([[1,0,0],[1,0,1],[1,1,0]])\n",
        "\n",
        "zeropad = np.zeros((5,5))\n",
        "zeropad[1:-1,1:-1] = alak\n",
        "plt.imshow(zeropad)\n",
        "plt.show()"
      ],
      "execution_count": 0,
      "outputs": [
        {
          "output_type": "display_data",
          "data": {
            "image/png": "[encoded data removed]",
            "text/plain": [
              "<Figure size 432x288 with 1 Axes>"
            ]
          },
          "metadata": {
            "tags": [],
            "needs_background": "light"
          }
        }
      ]
    }
  ]
}