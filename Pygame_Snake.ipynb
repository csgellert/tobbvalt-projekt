{
  "nbformat": 4,
  "nbformat_minor": 0,
  "metadata": {
    "kernelspec": {
      "display_name": "Python 3",
      "language": "python",
      "name": "python3"
    },
    "language_info": {
      "codemirror_mode": {
        "name": "ipython",
        "version": 3
      },
      "file_extension": ".py",
      "mimetype": "text/x-python",
      "name": "python",
      "nbconvert_exporter": "python",
      "pygments_lexer": "ipython3",
      "version": "3.7.4"
    },
    "colab": {
      "name": "Pygame_Snake.ipynb",
      "provenance": []
    }
  },
  "cells": [
    {
      "cell_type": "markdown",
      "metadata": {
        "id": "ba2aHWKUj3Tp",
        "colab_type": "text"
      },
      "source": [
        "#Setup"
      ]
    },
    {
      "cell_type": "code",
      "metadata": {
        "id": "k0jJBB0rikje",
        "colab_type": "code",
        "colab": {}
      },
      "source": [
        "import pygame, sys\n",
        "from pygame.locals import *\n",
        "import numpy as np\n",
        "import random\n",
        "\n",
        "#globális változók: színek és méretek\n",
        "FEKETE=(0,0,0)\n",
        "FEHER=(255,255,255)\n",
        "KEK=(0,0,255)\n",
        "PIROS=(255,0,0)\n",
        "ZOLD=(0,255,0)\n",
        "MERET=(600) #az ablak mérete (Méret*Méret)\n",
        "RACS=30 # NxN rács\n",
        "#assert ((MERET/RACS)%1==0), 'MERET osztható kell legyen RACScsal'  de erre mi figyelünk\n",
        "\n",
        "#A játék sebessége\n",
        "FPS=10#FPS\n",
        "CLOCK=pygame.time.Clock() #óra objektum, ennek az \"ütése\" (tick) határozza majd meg a sebességet\n",
        "\n",
        "#ablak létrehozása:\n",
        "display=pygame.display.set_mode((MERET,MERET)) #létrehozunk egy adott méretű surface objektumot, ezt lehet kijelezni\n",
        "pygame.display.set_caption('Snake')#cím beállítása\n",
        "\n",
        "#ha az adott ciklusban már mozgott a kígyó, ez jelzi. Egy ciklusban csak egyszer mozog: vagy mi mozgatjuk, vagy halad előre\n",
        "global mozgott\n",
        "mozgott=False"
      ],
      "execution_count": 0,
      "outputs": []
    },
    {
      "cell_type": "markdown",
      "metadata": {
        "id": "y3XhsT_LjgZ8",
        "colab_type": "text"
      },
      "source": [
        "# Class kígyó"
      ]
    },
    {
      "cell_type": "code",
      "metadata": {
        "id": "EeIp3VuVixsh",
        "colab_type": "code",
        "colab": {}
      },
      "source": [
        "#kígyó osztály. Próbáltam Gege kódjának logikáját követni\n",
        "#ahogy Gege kódjában, itt is egy négyzetes mátrix jelzi a kígyó helyét, egy \"rácson\" mozog, amely RACS osztásból áll (globális változó). A pozíció alapján rajzoljuk ki a képernyőre\n",
        "class kigyo:\n",
        "    fej=(3,3) #a kígyó feje\n",
        "    snake=[] #a kígyó testét tartalmazza\n",
        "    snake.append(fej)\n",
        "    snake.append((fej[0]-1,fej[1]))\n",
        "    snake.append((fej[0]-2,fej[1]))\n",
        "    isAlive=True #él-e a kígyó\n",
        "    steps = 0 #hány lépést élt meg az adott példány... (ez az AIhoz jöhet jól)\n",
        "    score = 0 # hány kaját evett meg eddig\n",
        "    fitness = 0\n",
        "    utolso=2 #az utolsó lépése a kígyónak (balra, jobbra, föl, le), hogy ne tudjon a kígyó töbsször egy irányba mozogni (\"ugrani\")\n",
        "    kaja=((random.randint(0,RACS),random.randint(0,RACS))) #kaja random helyen\n",
        "    elozo=2\n",
        "\n",
        "    #uj random kaja készítő\n",
        "    def ujKaja(self):\n",
        "       while True:\n",
        "            x=random.randint(0,RACS)\n",
        "            y=random.randint(0,RACS)\n",
        "            if (x,y) in self.snake: # megnézem, hogy nem esik-e bele a kaja saját magába\n",
        "                return self.ujKaja() # rekurzió\n",
        "            return (x,y) # ha minden rendben van\n",
        "\n",
        "    #mozgás: Gege kódja alapján\n",
        "    def move(self, direction,mozgott):\n",
        "        if mozgott==False:\n",
        "            if direction==0:\n",
        "                self.utolso=0\n",
        "                mozgott=True\n",
        "                self.fej = (self.fej[0]-1,self.fej[1])\n",
        "                if self.fej==self.kaja:\n",
        "                    self.snake.insert(0,self.fej)\n",
        "                    self.kaja= self.ujKaja()\n",
        "                else:\n",
        "                    self.snake.pop()\n",
        "                    self.snake.insert(0,self.fej)\n",
        "            if direction==1:\n",
        "                self.utolso=1\n",
        "                mozgott=True\n",
        "                self.fej = (self.fej[0],self.fej[1]+1)\n",
        "                if self.fej==self.kaja:\n",
        "                    self.snake.insert(0,self.fej)\n",
        "                    self.kaja= self.ujKaja()\n",
        "                else:\n",
        "                    self.snake.pop()\n",
        "                    self.snake.insert(0,self.fej)\n",
        "            if direction==2:\n",
        "                self.utolso=2\n",
        "                mozgott=True\n",
        "                self.fej = (self.fej[0]+1,self.fej[1])\n",
        "                if self.fej==self.kaja:\n",
        "                    self.snake.insert(0,self.fej)\n",
        "                    self.kaja= self.ujKaja()\n",
        "                else:\n",
        "                    self.snake.pop()\n",
        "                    self.snake.insert(0,self.fej)\n",
        "            if direction==3:\n",
        "                self.utolso=3\n",
        "                mozgott=True\n",
        "                self.fej = (self.fej[0],self.fej[1]-1)\n",
        "                if self.fej==self.kaja:\n",
        "                    self.snake.insert(0,self.fej)\n",
        "                    self.kaja= self.ujKaja()\n",
        "                else:\n",
        "                    self.snake.pop()\n",
        "                    self.snake.insert(0,self.fej)\n",
        "            self.steps +=1\n",
        "            self.fitness = self.steps + self.score *100\n",
        "    #a kígyó kirajzolása\n",
        "    def kigyorajzol(self):\n",
        "        for i in range(len(self.snake)): #minden egyes elem helyére rajzolunk egy négyzetet\n",
        "            tmp=self.snake[i] #az aktuális kígyó-elem mérete\n",
        "            sor=tmp[1]*MERET/(RACS+1)\n",
        "            oszlop=tmp[0]*MERET/(RACS+1)\n",
        "            négyzet=pygame.Rect(sor+MERET/RACS/10/2,oszlop+MERET/RACS/10/2,MERET/(RACS+1)-MERET/RACS/10,MERET/(RACS+1)-MERET/RACS/10)\n",
        "            pygame.draw.rect(display,PIROS,négyzet,)\n",
        "            if i==0: #a kígyó szemei, ez már high graphics\n",
        "                pygame.draw.circle(display,KEK,(int(sor)+int(MERET/(RACS+1)/4),int(oszlop)+int(MERET/(RACS+1)/2)),5)\n",
        "                pygame.draw.circle(display,KEK,(int(sor)+int(MERET/(RACS+1)/4*3),int(oszlop)+int(MERET/(RACS+1)/2)),5)\n",
        "\n",
        "    #a kaja megrajzolása:zöld négyzet\n",
        "    def kajarajzol(self):\n",
        "         tmp=self.kaja\n",
        "         sor=tmp[1]*MERET/(RACS+1)\n",
        "         oszlop=tmp[0]*MERET/(RACS+1)\n",
        "         négyzet=pygame.Rect(sor+2,oszlop+2,MERET/(RACS+1)-4,MERET/(RACS+1)-4)\n",
        "         pygame.draw.rect(display,ZOLD,négyzet,)\n",
        "\n",
        "    #megvizsgálja, hogy ütközik-e a kígyó. Azt is észreveszi, ha magába fut\n",
        "    def utkozike(self):\n",
        "        if self.fej[0]<0 or self.fej[0]>RACS or self.fej[1]<0 or self.fej[1]>RACS:\n",
        "            return True\n",
        "        for i in range(len(self.snake)-1):\n",
        "            if self.snake[i+1]==self.fej:\n",
        "                return True\n"
      ],
      "execution_count": 0,
      "outputs": []
    },
    {
      "cell_type": "markdown",
      "metadata": {
        "id": "qZymUqaDjWcg",
        "colab_type": "text"
      },
      "source": [
        "# Class Evol"
      ]
    },
    {
      "cell_type": "code",
      "metadata": {
        "id": "xW6nzEaGjIIe",
        "colab_type": "code",
        "colab": {}
      },
      "source": [
        "class evol:\n",
        "    gen = 1 # hanyadik generációnál járunk...\n",
        "    def __init__(self):\n",
        "        peldanySzam = 100 #hány példány van egy generációban\n",
        "        self.peldanyok = [] #A kezdeti állományok...\n",
        "        for i in range(peldanySzam):\n",
        "            self.peldanyok.append(kigyo()) #töltsük fel az állományt\n",
        "    def mutat(self,a):\n",
        "        display.fill(FEKETE) #minden ciklus elején töröljük a képernyő tartalmát\n",
        "        határrajzol() #a határok megrajzolása\n",
        "        a.kigyorajzol()\n",
        "        a.kajarajzol()\n",
        "        pygame.display.update()\n",
        "        CLOCK.tick(FPS)\n",
        "    def play(self): #Mindegyik példány lejátszik egy meccset\n",
        "        for i in self.peldanyok:\n",
        "            for k in range(100): # Ne bolyonghasssanak a végtelenségig...\n",
        "                irany = random.randint(0,3)# egyenlőre véletlenszerűen mozognak\n",
        "                if(i.isAlive):\n",
        "                    i.move(irany,mozgott)\n",
        "                    self.mutat(i)\n",
        "                else:\n",
        "                    break # Ha meghal ne csinálja tovább...\n",
        "            else:\n",
        "                i.fitness = i.steps + i.score *100 #Ez a sor szerintem nem münködik\n",
        "    def legjobb(self): #Ezt csak kiírarásra használtam\n",
        "        maximum = 0\n",
        "        maxidx = 0\n",
        "        for idx,i in enumerate(self.peldanyok):\n",
        "            if i.fitness > maximum:\n",
        "                maximum = i.fitness\n",
        "                maxidx = idx\n",
        "        print(maximum , maxidx)\n",
        "\n",
        "        "
      ],
      "execution_count": 0,
      "outputs": []
    },
    {
      "cell_type": "markdown",
      "metadata": {
        "id": "WSoWbm9CjpG-",
        "colab_type": "text"
      },
      "source": [
        "# További"
      ]
    },
    {
      "cell_type": "markdown",
      "metadata": {
        "id": "3c5zuKgzjvU5",
        "colab_type": "text"
      },
      "source": [
        "## rács"
      ]
    },
    {
      "cell_type": "code",
      "metadata": {
        "id": "JnPsreBui305",
        "colab_type": "code",
        "colab": {}
      },
      "source": [
        "#a rács megrajzolása. \n",
        "def racsrajzol():\n",
        "    for i in range(RACS+3): #rácsvonalak függőlegesen\n",
        "        pygame.draw.line(display, FEHER,(MERET*(i)/(RACS+1),0),(MERET*(i)/(RACS+1),MERET))\n",
        "    for j in range(RACS+3): #rácsvonalak vízszintesen\n",
        "        pygame.draw.line(display, FEHER,(0,MERET*(j)/(RACS+1)),(MERET,MERET*(j)/(RACS+1)))\n",
        "def határrajzol():\n",
        "    #a határok vastag kék vonallal, ez is csak szépítés\n",
        "    pygame.draw.line(display, KEK,(0,0),(0,MERET),5)\n",
        "    pygame.draw.line(display, KEK,(0,0),(MERET,0),5)\n",
        "    pygame.draw.line(display, KEK,(0,MERET),(MERET,MERET),5)\n",
        "    pygame.draw.line(display, KEK,(MERET,0),(MERET,MERET),5)"
      ],
      "execution_count": 0,
      "outputs": []
    },
    {
      "cell_type": "markdown",
      "metadata": {
        "id": "3EFN1mWejynE",
        "colab_type": "text"
      },
      "source": [
        "## Main"
      ]
    },
    {
      "cell_type": "code",
      "metadata": {
        "id": "2GtVCG8KihXL",
        "colab_type": "code",
        "colab": {}
      },
      "source": [
        "#main. Külön megírva menő :D\n",
        "def main():\n",
        "    piton=kigyo() #mi más lenne a neve?\n",
        "    pygame.init() #ez mindig kell, hogy a pygame függvényei és objektumai jól meghívódjanak\n",
        "\n",
        "    #a szoveg kiiratás előkészítése különböző objektumokkal. Ez elég macerás, három lépcsős folyamat, de annyira nem is fontos a projekt szempontjából\n",
        "    #szoveg: Game over\n",
        "    szoveg=pygame.font.Font('freesansbold.ttf',32) \n",
        "    #pont: 'Pontok' felira\n",
        "    pont=pygame.font.Font('freesansbold.ttf',16)\n",
        "    szoveg1=szoveg.render('Game over!',True,KEK,PIROS)\n",
        "    pont1=pont.render('Pontok:',True,KEK,PIROS)\n",
        "    #pontszam: az aktuális pontszám (megevett kaják száma)\n",
        "    pont2=pont1.get_rect()\n",
        "    szoveg2=szoveg1.get_rect()\n",
        "    pont2.center=(MERET/2, MERET-MERET/RACS/2)\n",
        "    szoveg2.center=(MERET/2,MERET/2)\n",
        "    \n",
        "    while True: #game loop: mindig fut, ebben történnek az események, és itt frissül a képernyő\n",
        "       \n",
        "        display.fill(FEKETE) #minden ciklus elején töröljük a képernyő tartalmát\n",
        "        #racsrajzol() #racs rajzolása. kikommentelve jobb a játékélmény szerintem :D\n",
        "        határrajzol() #a határok megrajzolása\n",
        "        mozgott=False #minden kör elején False\n",
        "        key=pygame.key.get_pressed() #gombnyomás objektum (?)\n",
        "        l=len(kigyo.snake) #a kígyó aktuális hossza\n",
        "\n",
        "        for event in pygame.event.get(): #végigmegy a ciklus alatt történt összes eventen: event handling\n",
        "            if event.type==QUIT: #ezt mindig bele kell írni, nem egészen tiszta, hogy mit csinál, mert nem ez léptet ki\n",
        "                pygame.quit\n",
        "                sys.exit\n",
        "            #ha az event gomb lenyomása:\n",
        "            if event.type==KEYDOWN:\n",
        "                #ha a gomb a fel/le/jobbra/balra\n",
        "                if event.key==K_UP and piton.utolso!=0 and piton.utolso!=2:\n",
        "                    piton.move(0,mozgott)\n",
        "                    \n",
        "                elif event.key==K_RIGHT and piton.utolso!=1 and piton.utolso!=3:\n",
        "                    piton.move(1,mozgott)\n",
        "                    \n",
        "                elif event.key==K_DOWN and piton.utolso!=2 and piton.utolso!=0:\n",
        "                    piton.move(2,mozgott)\n",
        "                    \n",
        "                elif event.key==K_LEFT and piton.utolso!=3 and piton.utolso!=1:\n",
        "                    piton.move(3,mozgott)\n",
        "                #a tesztelés alatt az tűnt jobbnak a \"játékélmény\" szempontjából, ha ide van berakva a kirajzolás\n",
        "                piton.kigyorajzol()\n",
        "                piton.kajarajzol()\n",
        "                #a szoveget rá kell másolni (blit) az ablakra\n",
        "                pontszam1=pont.render(str(l-3),True,KEK,PIROS)\n",
        "                pontszam2=pontszam1.get_rect()\n",
        "                pontszam2.center=(MERET/2+40, MERET-MERET/RACS/2)\n",
        "                display.blit(pont1,pont2)\n",
        "                display.blit(pontszam1,pontszam2)\n",
        "                #ez nagyon fontos: ez frissíti a kijelzőt minden ciklusban\n",
        "                pygame.display.update()\n",
        "                continue #ez hasznosnak tűnt\n",
        "        if mozgott==False: #ha a kígyó még nem mozgott a ciklusban, akkor automatikusan mozog\n",
        "            piton.move(piton.utolso,mozgott)\n",
        "            piton.kigyorajzol()\n",
        "            piton.kajarajzol()\n",
        "            #ide is jobbnak tűnt berakni\n",
        "            pontszam1=pont.render(str(l-3),True,KEK,PIROS)\n",
        "            pontszam2=pontszam1.get_rect()\n",
        "            pontszam2.center=(MERET/2+40, MERET-MERET/RACS/2)\n",
        "            display.blit(pont1,pont2)\n",
        "            display.blit(pontszam1,pontszam2)\n",
        "            pygame.display.update()\n",
        "        #ha a kígyó meghal, kilép a game loop-ból\n",
        "        if piton.utkozike():\n",
        "            isAlive=False\n",
        "            break\n",
        "        CLOCK.tick(FPS)#csak akkor megy továb, ha 1/FPS sec eltelt az előző hívás óta, ez a sebesség szabályozója\n",
        "        #game loop vége\n",
        "\n",
        "    #a játék vége: Game over kiírása, majd kilépés\n",
        "    display.blit(szoveg1,szoveg2)\n",
        "    pygame.display.update()\n",
        "    CLOCK.tick(1)\n",
        "    del piton\n",
        "    pygame.quit()\n",
        "    sys.exit"
      ],
      "execution_count": 0,
      "outputs": []
    },
    {
      "cell_type": "code",
      "metadata": {
        "id": "qmpWKgj2o3Vr",
        "colab_type": "code",
        "colab": {}
      },
      "source": [
        "mozgott = False\n",
        "ai = evol()\n",
        "ai.play()\n",
        "ai.legjobb()"
      ],
      "execution_count": 0,
      "outputs": []
    },
    {
      "cell_type": "code",
      "metadata": {
        "id": "w3zZ2A9uihXY",
        "colab_type": "code",
        "colab": {}
      },
      "source": [
        "main()"
      ],
      "execution_count": 0,
      "outputs": []
    }
  ]
}